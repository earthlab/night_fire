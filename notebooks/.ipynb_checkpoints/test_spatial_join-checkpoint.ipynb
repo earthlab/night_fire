{
 "cells": [
  {
   "cell_type": "code",
   "execution_count": 1,
   "metadata": {},
   "outputs": [
    {
     "name": "stdout",
     "output_type": "stream",
     "text": [
      "PyTables is not installed. No support for HDF output.\n"
     ]
    }
   ],
   "source": [
    "import geopandas as gpd\n",
    "from simpledbf import Dbf5\n",
    "import time"
   ]
  },
  {
   "cell_type": "code",
   "execution_count": 2,
   "metadata": {},
   "outputs": [],
   "source": [
    "fi = r\"D:\\projects\\RD\\night_fire\\modis_fire_points\\DL_FIRE_M6_50643\\fire_archive_M6_50643.dbf\"\n",
    "shp_fi = r\"D:\\projects\\RD\\night_fire\\modis_fire_points\\DL_FIRE_M6_50643\\fire_archive_M6_50643.shp\""
   ]
  },
  {
   "cell_type": "code",
   "execution_count": 4,
   "metadata": {},
   "outputs": [
    {
     "name": "stdout",
     "output_type": "stream",
     "text": [
      "simpledbf: 71.53590321540833 seconds\n"
     ]
    }
   ],
   "source": [
    "t0 = time.time()\n",
    "dbf = Dbf5(fi)\n",
    "df_dbf = dbf.to_dataframe()\n",
    "t1 = time.time()\n",
    "print('simpledbf: {} seconds'.format(t1-t0))"
   ]
  },
  {
   "cell_type": "code",
   "execution_count": 5,
   "metadata": {},
   "outputs": [
    {
     "name": "stdout",
     "output_type": "stream",
     "text": [
      "simpledbf: 180.05971908569336 seconds\n"
     ]
    }
   ],
   "source": [
    "t0 = time.time()\n",
    "df = gpd.read_file(fi)\n",
    "t1 = time.time()\n",
    "print('simpledbf: {} seconds'.format(t1-t0))"
   ]
  },
  {
   "cell_type": "code",
   "execution_count": 6,
   "metadata": {},
   "outputs": [
    {
     "data": {
      "text/html": [
       "<div>\n",
       "<style scoped>\n",
       "    .dataframe tbody tr th:only-of-type {\n",
       "        vertical-align: middle;\n",
       "    }\n",
       "\n",
       "    .dataframe tbody tr th {\n",
       "        vertical-align: top;\n",
       "    }\n",
       "\n",
       "    .dataframe thead th {\n",
       "        text-align: right;\n",
       "    }\n",
       "</style>\n",
       "<table border=\"1\" class=\"dataframe\">\n",
       "  <thead>\n",
       "    <tr style=\"text-align: right;\">\n",
       "      <th></th>\n",
       "      <th>LATITUDE</th>\n",
       "      <th>LONGITUDE</th>\n",
       "      <th>BRIGHTNESS</th>\n",
       "      <th>SCAN</th>\n",
       "      <th>TRACK</th>\n",
       "      <th>ACQ_DATE</th>\n",
       "      <th>ACQ_TIME</th>\n",
       "      <th>SATELLITE</th>\n",
       "      <th>INSTRUMENT</th>\n",
       "      <th>CONFIDENCE</th>\n",
       "      <th>VERSION</th>\n",
       "      <th>BRIGHT_T31</th>\n",
       "      <th>FRP</th>\n",
       "      <th>DAYNIGHT</th>\n",
       "      <th>TYPE</th>\n",
       "    </tr>\n",
       "  </thead>\n",
       "  <tbody>\n",
       "    <tr>\n",
       "      <th>0</th>\n",
       "      <td>-28.7608</td>\n",
       "      <td>20.6512</td>\n",
       "      <td>332.9</td>\n",
       "      <td>1.3</td>\n",
       "      <td>1.1</td>\n",
       "      <td>2004-01-01</td>\n",
       "      <td>0006</td>\n",
       "      <td>Aqua</td>\n",
       "      <td>MODIS</td>\n",
       "      <td>100</td>\n",
       "      <td>6.2</td>\n",
       "      <td>292.8</td>\n",
       "      <td>49.2</td>\n",
       "      <td>N</td>\n",
       "      <td>0</td>\n",
       "    </tr>\n",
       "    <tr>\n",
       "      <th>1</th>\n",
       "      <td>-28.7593</td>\n",
       "      <td>20.6378</td>\n",
       "      <td>303.6</td>\n",
       "      <td>1.3</td>\n",
       "      <td>1.1</td>\n",
       "      <td>2004-01-01</td>\n",
       "      <td>0006</td>\n",
       "      <td>Aqua</td>\n",
       "      <td>MODIS</td>\n",
       "      <td>56</td>\n",
       "      <td>6.2</td>\n",
       "      <td>291.0</td>\n",
       "      <td>8.8</td>\n",
       "      <td>N</td>\n",
       "      <td>0</td>\n",
       "    </tr>\n",
       "    <tr>\n",
       "      <th>2</th>\n",
       "      <td>-34.0107</td>\n",
       "      <td>18.6602</td>\n",
       "      <td>307.7</td>\n",
       "      <td>1.2</td>\n",
       "      <td>1.1</td>\n",
       "      <td>2004-01-01</td>\n",
       "      <td>0007</td>\n",
       "      <td>Aqua</td>\n",
       "      <td>MODIS</td>\n",
       "      <td>72</td>\n",
       "      <td>6.2</td>\n",
       "      <td>287.6</td>\n",
       "      <td>12.4</td>\n",
       "      <td>N</td>\n",
       "      <td>0</td>\n",
       "    </tr>\n",
       "    <tr>\n",
       "      <th>3</th>\n",
       "      <td>35.9348</td>\n",
       "      <td>140.6742</td>\n",
       "      <td>301.6</td>\n",
       "      <td>1.9</td>\n",
       "      <td>1.4</td>\n",
       "      <td>2004-01-01</td>\n",
       "      <td>0103</td>\n",
       "      <td>Terra</td>\n",
       "      <td>MODIS</td>\n",
       "      <td>0</td>\n",
       "      <td>6.2</td>\n",
       "      <td>286.7</td>\n",
       "      <td>15.2</td>\n",
       "      <td>D</td>\n",
       "      <td>2</td>\n",
       "    </tr>\n",
       "    <tr>\n",
       "      <th>4</th>\n",
       "      <td>-19.5890</td>\n",
       "      <td>144.4041</td>\n",
       "      <td>317.4</td>\n",
       "      <td>3.6</td>\n",
       "      <td>1.8</td>\n",
       "      <td>2004-01-01</td>\n",
       "      <td>0118</td>\n",
       "      <td>Terra</td>\n",
       "      <td>MODIS</td>\n",
       "      <td>54</td>\n",
       "      <td>6.2</td>\n",
       "      <td>300.4</td>\n",
       "      <td>34.1</td>\n",
       "      <td>D</td>\n",
       "      <td>0</td>\n",
       "    </tr>\n",
       "  </tbody>\n",
       "</table>\n",
       "</div>"
      ],
      "text/plain": [
       "   LATITUDE  LONGITUDE  BRIGHTNESS  SCAN  TRACK    ACQ_DATE ACQ_TIME  \\\n",
       "0  -28.7608    20.6512       332.9   1.3    1.1  2004-01-01     0006   \n",
       "1  -28.7593    20.6378       303.6   1.3    1.1  2004-01-01     0006   \n",
       "2  -34.0107    18.6602       307.7   1.2    1.1  2004-01-01     0007   \n",
       "3   35.9348   140.6742       301.6   1.9    1.4  2004-01-01     0103   \n",
       "4  -19.5890   144.4041       317.4   3.6    1.8  2004-01-01     0118   \n",
       "\n",
       "  SATELLITE INSTRUMENT  CONFIDENCE VERSION  BRIGHT_T31   FRP DAYNIGHT  TYPE  \n",
       "0      Aqua      MODIS         100     6.2       292.8  49.2        N     0  \n",
       "1      Aqua      MODIS          56     6.2       291.0   8.8        N     0  \n",
       "2      Aqua      MODIS          72     6.2       287.6  12.4        N     0  \n",
       "3     Terra      MODIS           0     6.2       286.7  15.2        D     2  \n",
       "4     Terra      MODIS          54     6.2       300.4  34.1        D     0  "
      ]
     },
     "execution_count": 6,
     "metadata": {},
     "output_type": "execute_result"
    }
   ],
   "source": [
    "df_dbf.head()"
   ]
  },
  {
   "cell_type": "code",
   "execution_count": null,
   "metadata": {},
   "outputs": [],
   "source": []
  }
 ],
 "metadata": {
  "kernelspec": {
   "display_name": "Python3 (eapy_gbdx)",
   "language": "python",
   "name": "eapy_gbdx"
  },
  "language_info": {
   "codemirror_mode": {
    "name": "ipython",
    "version": 3
   },
   "file_extension": ".py",
   "mimetype": "text/x-python",
   "name": "python",
   "nbconvert_exporter": "python",
   "pygments_lexer": "ipython3",
   "version": "3.6.7"
  }
 },
 "nbformat": 4,
 "nbformat_minor": 2
}
