{
 "cells": [
  {
   "cell_type": "code",
   "execution_count": 8,
   "metadata": {
    "hideCode": true,
    "hidePrompt": true
   },
   "outputs": [],
   "source": [
    "import geopandas as gpd\n",
    "from simpledbf import Dbf5\n",
    "import time\n",
    "from glob import glob\n",
    "import pandas as pd"
   ]
  },
  {
   "cell_type": "code",
   "execution_count": 2,
   "metadata": {
    "hideCode": true,
    "hidePrompt": true
   },
   "outputs": [],
   "source": [
    "fi = r\"D:\\projects\\RD\\night_fire\\modis_fire_points\\DL_FIRE_M6_50643\\fire_archive_M6_50643.dbf\"\n",
    "shp_fi = r\"D:\\projects\\RD\\night_fire\\modis_fire_points\\DL_FIRE_M6_50643\\fire_archive_M6_50643.shp\""
   ]
  },
  {
   "cell_type": "code",
   "execution_count": 3,
   "metadata": {
    "hideCode": true,
    "hidePrompt": true,
    "scrolled": false
   },
   "outputs": [
    {
     "name": "stdout",
     "output_type": "stream",
     "text": [
      "on year 2011\n",
      "TYPE: 0, size: 4575140    0.97\n",
      "TYPE: 1, size: 1333    0.00\n",
      "TYPE: 2, size: 124053    0.03\n",
      "TYPE: 3, size: 22579    0.00\n",
      "confidence > 0, using 99.36% of data\n",
      "confidence > 10, using 99.16% of data\n",
      "confidence > 20, using 98.05% of data\n",
      "confidence > 30, using 95.05% of data\n",
      "******************************\n"
     ]
    }
   ],
   "source": [
    "fire_pts_folders = !ls -d ../modis_fire_points/*\n",
    "dbf_files = [glob(folder + '/*.dbf')[0] for folder in fire_pts_folders]\n",
    "\n",
    "years, type0, type1, type2, type3 = [], [], [], [], []\n",
    "for fi in [dbf_files[-1]]:\n",
    "    dbf = Dbf5(fi)\n",
    "    df_dbf = dbf.to_dataframe()\n",
    "    \n",
    "    types = df_dbf.groupby('TYPE')\n",
    "    try:\n",
    "        year = int(df_dbf.ACQ_DATE[0].split('-')[0])\n",
    "    except:\n",
    "        year = df_dbf.ACQ_DATE[0].year\n",
    "        \n",
    "    years.append(year)\n",
    "    type0.append(list(types)[0][1].shape[0])\n",
    "    type1.append(list(types)[1][1].shape[0])\n",
    "    type2.append(list(types)[2][1].shape[0])\n",
    "    type3.append(list(types)[3][1].shape[0])\n",
    "    \n",
    "    print('on year {}'.format(year))\n",
    "    for name, grp in types:\n",
    "        print('TYPE: {}, size: {}    {:.2f}'.format(name, grp.shape[0], grp.shape[0]/df_dbf.shape[0]))\n",
    "    \n",
    "    \n",
    "    df_type0 = df_dbf.query('TYPE == 0')\n",
    "    for conf in [0,10,20,30]:\n",
    "        df_sub = df_type0.query('CONFIDENCE > {}'.format(conf))\n",
    "        print('confidence > {}, using {:.2f}% of data'.format(conf, (df_sub.shape[0]/df_type0.shape[0])*100))\n",
    "    print('******************************')"
   ]
  },
  {
   "cell_type": "code",
   "execution_count": null,
   "metadata": {
    "hideCode": true,
    "hidePrompt": true
   },
   "outputs": [],
   "source": [
    "counts_df = pd.DataFrame({'year': years, 'type0':type0, 'type1':type1, 'type2':type2, 'type3':type3})"
   ]
  },
  {
   "cell_type": "code",
   "execution_count": 5,
   "metadata": {
    "hideCode": true,
    "hidePrompt": true
   },
   "outputs": [
    {
     "name": "stdout",
     "output_type": "stream",
     "text": [
      "year 2011\n"
     ]
    }
   ],
   "source": [
    "fire_pts_folders = !ls -d ../modis_fire_points/*\n",
    "dbf_files = [glob(folder + '/*.dbf')[0] for folder in fire_pts_folders]\n",
    "\n",
    "#years, day_counts, night_counts = [], [], []\n",
    "for fi in [dbf_files[-1]]:\n",
    "    dbf = Dbf5(fi)\n",
    "    df_dbf = dbf.to_dataframe()\n",
    "    \n",
    "    types = df_dbf.groupby('TYPE')\n",
    "    try:\n",
    "        year = int(df_dbf.ACQ_DATE[0].split('-')[0])\n",
    "    except:\n",
    "        year = df_dbf.ACQ_DATE[0].year\n",
    "    \n",
    "    print('year', year)\n",
    "    years.append(year)\n",
    "    df_type0 = df_dbf.query('TYPE == 0')\n",
    "    df_type0 = df_type0.query('CONFIDENCE > 10')\n",
    "    dn = df_type0.groupby('DAYNIGHT')\n",
    "    day_counts.append(list(dn)[0][1].shape[0])\n",
    "    night_counts.append(list(dn)[1][1].shape[0])\n",
    "    "
   ]
  },
  {
   "cell_type": "code",
   "execution_count": 9,
   "metadata": {
    "hideCode": true,
    "hidePrompt": true
   },
   "outputs": [],
   "source": [
    "counts_df = pd.DataFrame({'year': years, 'day':day_counts, 'night':night_counts})"
   ]
  },
  {
   "cell_type": "code",
   "execution_count": 14,
   "metadata": {
    "hideCode": true,
    "hidePrompt": true
   },
   "outputs": [],
   "source": [
    "counts_df = counts_df.sort_values(by='year')\n",
    "counts_df['total'] = counts_df.day + counts_df.night"
   ]
  },
  {
   "cell_type": "code",
   "execution_count": null,
   "metadata": {
    "collapsed": true,
    "hideCode": true,
    "hidePrompt": true
   },
   "outputs": [],
   "source": []
  }
 ],
 "metadata": {
  "hide_code_all_hidden": true,
  "kernelspec": {
   "display_name": "Python3 (eapy_gbdx)",
   "language": "python",
   "name": "eapy_gbdx"
  },
  "language_info": {
   "codemirror_mode": {
    "name": "ipython",
    "version": 3
   },
   "file_extension": ".py",
   "mimetype": "text/x-python",
   "name": "python",
   "nbconvert_exporter": "python",
   "pygments_lexer": "ipython3",
   "version": "3.6.7"
  }
 },
 "nbformat": 4,
 "nbformat_minor": 2
}
