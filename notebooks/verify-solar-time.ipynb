{
 "cells": [
  {
   "cell_type": "code",
   "execution_count": 1,
   "metadata": {},
   "outputs": [
    {
     "name": "stdout",
     "output_type": "stream",
     "text": [
      "PyTables is not installed. No support for HDF output.\n"
     ]
    }
   ],
   "source": [
    "import geopandas as gpd\n",
    "from simpledbf import Dbf5\n",
    "import time\n",
    "from glob import glob\n",
    "import pandas as pd\n",
    "import sys\n",
    "from datetime import datetime, time, timedelta\n",
    "from math import pi, cos, sin\n"
   ]
  },
  {
   "cell_type": "code",
   "execution_count": 33,
   "metadata": {},
   "outputs": [],
   "source": [
    "def solar_time(date_str, longit):\n",
    "#     if len(sys.argv) != 4:\n",
    "#         print('Usage: hour_angle.py [YYYY/MM/DD] [HH:MM:SS] [longitude]')\n",
    "#         sys.exit()\n",
    "#     else:\n",
    "    #dt = datetime.strptime(sys.argv[1] + ' ' + sys.argv[2], '%Y/%m/%d %H:%M:%S')\n",
    "    dt = datetime.strptime(date_str, '%Y/%m/%d %H:%M:%S')\n",
    "    #longit = float(sys.argv[3])\n",
    "\n",
    "    gamma = 2 * pi / 365 * (dt.timetuple().tm_yday - 1 + float(dt.hour - 12) / 24)\n",
    "    eqtime = 229.18 * (0.000075 + 0.001868 * cos(gamma) - 0.032077 * sin(gamma) \\\n",
    "             - 0.014615 * cos(2 * gamma) - 0.040849 * sin(2 * gamma))\n",
    "    decl = 0.006918 - 0.399912 * cos(gamma) + 0.070257 * sin(gamma) \\\n",
    "           - 0.006758 * cos(2 * gamma) + 0.000907 * sin(2 * gamma) \\\n",
    "           - 0.002697 * cos(3 * gamma) + 0.00148 * sin(3 * gamma)\n",
    "    time_offset = eqtime + 4 * longit\n",
    "    tst = dt.hour * 60 + dt.minute + dt.second / 60 + time_offset\n",
    "    solar_time = datetime.combine(dt.date(), time(0)) + timedelta(minutes=tst)\n",
    "    print(solar_time)\n",
    "    \n",
    "def solar_time_df(df):\n",
    "#     if len(sys.argv) != 4:\n",
    "#         print('Usage: hour_angle.py [YYYY/MM/DD] [HH:MM:SS] [longitude]')\n",
    "#         sys.exit()\n",
    "#     else:\n",
    "    #dt = datetime.strptime(sys.argv[1] + ' ' + sys.argv[2], '%Y/%m/%d %H:%M:%S')\n",
    "    #dt = datetime.strptime(date_str, '%Y/%m/%d %H:%M:%S')\n",
    "    longit = df['LONGITUDE']\n",
    "    date_reformat = '{}/{}/{}'.format(df['ACQ_DATE'].year, df['ACQ_DATE'].month, df['ACQ_DATE'].day) \n",
    "    time_reformat = '{}:{}:{}'.format(df['ACQ_TIME'][:2],df['ACQ_TIME'][2:],'00')\n",
    "    dt = datetime.strptime(date_reformat + ' ' + time_reformat, '%Y/%m/%d %H:%M:%S')\n",
    "    \n",
    "    gamma = 2 * pi / 365 * (dt.timetuple().tm_yday - 1 + float(dt.hour - 12) / 24)\n",
    "    eqtime = 229.18 * (0.000075 + 0.001868 * cos(gamma) - 0.032077 * sin(gamma) \\\n",
    "             - 0.014615 * cos(2 * gamma) - 0.040849 * sin(2 * gamma))\n",
    "    decl = 0.006918 - 0.399912 * cos(gamma) + 0.070257 * sin(gamma) \\\n",
    "           - 0.006758 * cos(2 * gamma) + 0.000907 * sin(2 * gamma) \\\n",
    "           - 0.002697 * cos(3 * gamma) + 0.00148 * sin(3 * gamma)\n",
    "    time_offset = eqtime + 4 * longit\n",
    "    tst = dt.hour * 60 + dt.minute + dt.second / 60 + time_offset\n",
    "    solar_time = datetime.combine(dt.date(), time(0)) + timedelta(minutes=tst)\n",
    "    print(solar_time)\n",
    "    \n",
    "def solar_time_df_map(acq_date, acq_time, long):\n",
    "#     if len(sys.argv) != 4:\n",
    "#         print('Usage: hour_angle.py [YYYY/MM/DD] [HH:MM:SS] [longitude]')\n",
    "#         sys.exit()\n",
    "#     else:\n",
    "    #dt = datetime.strptime(sys.argv[1] + ' ' + sys.argv[2], '%Y/%m/%d %H:%M:%S')\n",
    "    #dt = datetime.strptime(date_str, '%Y/%m/%d %H:%M:%S')\n",
    "    longit = long\n",
    "    date_reformat = '{}/{}/{}'.format(acq_date.year, acq_date.month, acq_date.day) \n",
    "    time_reformat = '{}:{}:{}'.format(acq_time[:2],acq_time[2:],'00')\n",
    "    dt = datetime.strptime(date_reformat + ' ' + time_reformat, '%Y/%m/%d %H:%M:%S')\n",
    "    \n",
    "    gamma = 2 * pi / 365 * (dt.timetuple().tm_yday - 1 + float(dt.hour - 12) / 24)\n",
    "    eqtime = 229.18 * (0.000075 + 0.001868 * cos(gamma) - 0.032077 * sin(gamma) \\\n",
    "             - 0.014615 * cos(2 * gamma) - 0.040849 * sin(2 * gamma))\n",
    "    decl = 0.006918 - 0.399912 * cos(gamma) + 0.070257 * sin(gamma) \\\n",
    "           - 0.006758 * cos(2 * gamma) + 0.000907 * sin(2 * gamma) \\\n",
    "           - 0.002697 * cos(3 * gamma) + 0.00148 * sin(3 * gamma)\n",
    "    time_offset = eqtime + 4 * longit\n",
    "    tst = dt.hour * 60 + dt.minute + dt.second / 60 + time_offset\n",
    "    solar_time = datetime.combine(dt.date(), time(0)) + timedelta(minutes=tst)\n",
    "    \n",
    "    return(solar_time)"
   ]
  },
  {
   "cell_type": "code",
   "execution_count": 49,
   "metadata": {},
   "outputs": [],
   "source": [
    "fi = r\"D:\\projects\\RD\\night_fire\\modis_fire_points\\DL_FIRE_M6_50643\\fire_archive_M6_50643.dbf\"\n",
    "fi = r\"D:/projects/RD/night_fire/modis_fire_points/DL_FIRE_M6_50646/fire_archive_M6_50646.dbf\"\n",
    "dbf = Dbf5(fi)\n",
    "df_dbf = dbf.to_dataframe()"
   ]
  },
  {
   "cell_type": "code",
   "execution_count": 50,
   "metadata": {},
   "outputs": [
    {
     "data": {
      "text/plain": [
       "Index(['LATITUDE', 'LONGITUDE', 'BRIGHTNESS', 'SCAN', 'TRACK', 'ACQ_DATE',\n",
       "       'ACQ_TIME', 'SATELLITE', 'INSTRUMENT', 'CONFIDENCE', 'VERSION',\n",
       "       'BRIGHT_T31', 'FRP', 'DAYNIGHT', 'TYPE'],\n",
       "      dtype='object')"
      ]
     },
     "execution_count": 50,
     "metadata": {},
     "output_type": "execute_result"
    }
   ],
   "source": [
    "df_dbf.columns"
   ]
  },
  {
   "cell_type": "code",
   "execution_count": 51,
   "metadata": {},
   "outputs": [],
   "source": [
    "time_df = df_dbf[['LONGITUDE', 'ACQ_DATE', 'ACQ_TIME']]"
   ]
  },
  {
   "cell_type": "code",
   "execution_count": 52,
   "metadata": {},
   "outputs": [
    {
     "data": {
      "text/plain": [
       "LONGITUDE       20.7196\n",
       "ACQ_DATE     2007-01-02\n",
       "ACQ_TIME           0918\n",
       "Name: 15000, dtype: object"
      ]
     },
     "execution_count": 52,
     "metadata": {},
     "output_type": "execute_result"
    }
   ],
   "source": [
    "sample = time_df.iloc[15000]\n",
    "sample"
   ]
  },
  {
   "cell_type": "code",
   "execution_count": 53,
   "metadata": {},
   "outputs": [
    {
     "data": {
      "text/plain": [
       "('2007/1/2', '09:18:00')"
      ]
     },
     "execution_count": 53,
     "metadata": {},
     "output_type": "execute_result"
    }
   ],
   "source": [
    "date_reformat = '{}/{}/{}'.format(sample['ACQ_DATE'].year, sample['ACQ_DATE'].month, sample['ACQ_DATE'].day) \n",
    "time_reformat = '{}:{}:{}'.format(sample['ACQ_TIME'][:2],sample['ACQ_TIME'][2:],'00')\n",
    "date_reformat, time_reformat"
   ]
  },
  {
   "cell_type": "code",
   "execution_count": 54,
   "metadata": {},
   "outputs": [
    {
     "data": {
      "text/plain": [
       "datetime.datetime(2007, 1, 2, 9, 18)"
      ]
     },
     "execution_count": 54,
     "metadata": {},
     "output_type": "execute_result"
    }
   ],
   "source": [
    "datetime.strptime(date_reformat + ' ' + time_reformat, '%Y/%m/%d %H:%M:%S')"
   ]
  },
  {
   "cell_type": "code",
   "execution_count": 55,
   "metadata": {},
   "outputs": [
    {
     "name": "stdout",
     "output_type": "stream",
     "text": [
      "2007-01-02 10:37:34.979811\n"
     ]
    }
   ],
   "source": [
    "solar_time(date_reformat + ' ' + time_reformat, sample['LONGITUDE'])"
   ]
  },
  {
   "cell_type": "code",
   "execution_count": 56,
   "metadata": {},
   "outputs": [
    {
     "name": "stdout",
     "output_type": "stream",
     "text": [
      "2007-01-02 10:37:34.979811\n"
     ]
    }
   ],
   "source": [
    "solar_time_df(sample)"
   ]
  },
  {
   "cell_type": "markdown",
   "metadata": {},
   "source": [
    "## works for a sample, map it to a field"
   ]
  },
  {
   "cell_type": "code",
   "execution_count": 57,
   "metadata": {},
   "outputs": [
    {
     "name": "stderr",
     "output_type": "stream",
     "text": [
      "C:\\software\\anaconda3\\envs\\eapy_gbdx\\lib\\site-packages\\ipykernel_launcher.py:3: SettingWithCopyWarning: \n",
      "A value is trying to be set on a copy of a slice from a DataFrame.\n",
      "Try using .loc[row_indexer,col_indexer] = value instead\n",
      "\n",
      "See the caveats in the documentation: http://pandas.pydata.org/pandas-docs/stable/indexing.html#indexing-view-versus-copy\n",
      "  This is separate from the ipykernel package so we can avoid doing imports until\n"
     ]
    }
   ],
   "source": [
    "# time_df['solar_time'] = list(map(solar_time_df(time_df.iterrows())))\n",
    "#time_df['solar_time'] = time_df.applymap(solar_time_df)\n",
    "time_df['solar_time'] = list(map(solar_time_df_map, time_df['ACQ_DATE'], time_df['ACQ_TIME'], time_df['LONGITUDE']))"
   ]
  },
  {
   "cell_type": "code",
   "execution_count": 58,
   "metadata": {},
   "outputs": [
    {
     "name": "stderr",
     "output_type": "stream",
     "text": [
      "C:\\software\\anaconda3\\envs\\eapy_gbdx\\lib\\site-packages\\ipykernel_launcher.py:1: SettingWithCopyWarning: \n",
      "A value is trying to be set on a copy of a slice from a DataFrame.\n",
      "Try using .loc[row_indexer,col_indexer] = value instead\n",
      "\n",
      "See the caveats in the documentation: http://pandas.pydata.org/pandas-docs/stable/indexing.html#indexing-view-versus-copy\n",
      "  \"\"\"Entry point for launching an IPython kernel.\n"
     ]
    }
   ],
   "source": [
    "time_df['DAYNIGHT'] = df_dbf['DAYNIGHT']"
   ]
  },
  {
   "cell_type": "code",
   "execution_count": 59,
   "metadata": {},
   "outputs": [],
   "source": [
    "groups = list(time_df.groupby('DAYNIGHT'))\n",
    "day_group = groups[0][1]\n",
    "night_group = groups[1][1]"
   ]
  },
  {
   "cell_type": "code",
   "execution_count": 60,
   "metadata": {},
   "outputs": [],
   "source": [
    "def get_hour(dt):\n",
    "    return(dt.hour)\n",
    "day_group['solar_hour'] = list(map(get_hour, day_group['solar_time']))"
   ]
  },
  {
   "cell_type": "code",
   "execution_count": 61,
   "metadata": {},
   "outputs": [
    {
     "data": {
      "text/plain": [
       "array([[<matplotlib.axes._subplots.AxesSubplot object at 0x00000188C507C1D0>]],\n",
       "      dtype=object)"
      ]
     },
     "execution_count": 61,
     "metadata": {},
     "output_type": "execute_result"
    },
    {
     "data": {
      "image/png": "[encoded data removed]",
      "text/plain": [
       "<Figure size 432x288 with 1 Axes>"
      ]
     },
     "metadata": {
      "needs_background": "light"
     },
     "output_type": "display_data"
    }
   ],
   "source": [
    "day_group.hist('solar_hour')"
   ]
  },
  {
   "cell_type": "code",
   "execution_count": 62,
   "metadata": {},
   "outputs": [
    {
     "data": {
      "text/plain": [
       "array([[<matplotlib.axes._subplots.AxesSubplot object at 0x0000018892446390>]],\n",
       "      dtype=object)"
      ]
     },
     "execution_count": 62,
     "metadata": {},
     "output_type": "execute_result"
    },
    {
     "data": {
      "image/png": "[encoded data removed]",
      "text/plain": [
       "<Figure size 432x288 with 1 Axes>"
      ]
     },
     "metadata": {
      "needs_background": "light"
     },
     "output_type": "display_data"
    }
   ],
   "source": [
    "night_group['solar_hour'] = list(map(get_hour, night_group['solar_time']))\n",
    "night_group.hist('solar_hour')"
   ]
  },
  {
   "cell_type": "code",
   "execution_count": 63,
   "metadata": {},
   "outputs": [
    {
     "data": {
      "text/plain": [
       "array([<matplotlib.axes._subplots.AxesSubplot object at 0x00000188C507CEB8>],\n",
       "      dtype=object)"
      ]
     },
     "execution_count": 63,
     "metadata": {},
     "output_type": "execute_result"
    },
    {
     "data": {
      "image/png": "[encoded data removed]",
      "text/plain": [
       "<Figure size 432x288 with 1 Axes>"
      ]
     },
     "metadata": {
      "needs_background": "light"
     },
     "output_type": "display_data"
    }
   ],
   "source": [
    "ax = day_group.hist('solar_hour')\n",
    "night_group.hist('solar_hour', ax=ax)"
   ]
  },
  {
   "cell_type": "code",
   "execution_count": 64,
   "metadata": {},
   "outputs": [
    {
     "data": {
      "text/plain": [
       "'0918'"
      ]
     },
     "execution_count": 64,
     "metadata": {},
     "output_type": "execute_result"
    }
   ],
   "source": [
    "sample['ACQ_TIME']"
   ]
  },
  {
   "cell_type": "markdown",
   "metadata": {},
   "source": [
    "## delete below"
   ]
  },
  {
   "cell_type": "code",
   "execution_count": 71,
   "metadata": {},
   "outputs": [],
   "source": [
    "from gbdxtools import CatalogImage, Interface"
   ]
  },
  {
   "cell_type": "code",
   "execution_count": 66,
   "metadata": {},
   "outputs": [],
   "source": [
    "did = '10400100530FCA00'"
   ]
  },
  {
   "cell_type": "code",
   "execution_count": 69,
   "metadata": {},
   "outputs": [
    {
     "data": {
      "text/plain": [
       "array([-105.23771524,   39.97559088, -105.22881031,   39.98343393])"
      ]
     },
     "execution_count": 69,
     "metadata": {},
     "output_type": "execute_result"
    }
   ],
   "source": [
    "aoi = gpd.read_file(r\"C:\\Users\\jomc9287\\Downloads\\map.geojson\")\n",
    "aoi.bounds.values[0]"
   ]
  },
  {
   "cell_type": "code",
   "execution_count": 88,
   "metadata": {},
   "outputs": [
    {
     "ename": "Exception",
     "evalue": "Could not find a catalog entry for the given id: 10400100530FCA00",
     "output_type": "error",
     "traceback": [
      "\u001b[1;31m---------------------------------------------------------------------------\u001b[0m",
      "\u001b[1;31mException\u001b[0m                                 Traceback (most recent call last)",
      "\u001b[1;32m<ipython-input-88-f56d49e3b963>\u001b[0m in \u001b[0;36m<module>\u001b[1;34m\u001b[0m\n\u001b[1;32m----> 1\u001b[1;33m \u001b[0mimg\u001b[0m \u001b[1;33m=\u001b[0m \u001b[0mCatalogImage\u001b[0m\u001b[1;33m(\u001b[0m\u001b[0mdid\u001b[0m\u001b[1;33m,\u001b[0m \u001b[0mbbox\u001b[0m\u001b[1;33m=\u001b[0m\u001b[0maoi\u001b[0m\u001b[1;33m.\u001b[0m\u001b[0mbounds\u001b[0m\u001b[1;33m.\u001b[0m\u001b[0mvalues\u001b[0m\u001b[1;33m[\u001b[0m\u001b[1;36m0\u001b[0m\u001b[1;33m]\u001b[0m\u001b[1;33m,\u001b[0m \u001b[0mpansharpen\u001b[0m\u001b[1;33m=\u001b[0m\u001b[1;32mTrue\u001b[0m\u001b[1;33m)\u001b[0m\u001b[1;33m\u001b[0m\u001b[1;33m\u001b[0m\u001b[0m\n\u001b[0m",
      "\u001b[1;32mC:\\software\\anaconda3\\envs\\eapy_gbdx\\lib\\site-packages\\gbdxtools\\images\\catalog_image.py\u001b[0m in \u001b[0;36m__new__\u001b[1;34m(cls, cat_id, **kwargs)\u001b[0m\n\u001b[0;32m     40\u001b[0m     '''\n\u001b[0;32m     41\u001b[0m     \u001b[1;32mdef\u001b[0m \u001b[0m__new__\u001b[0m\u001b[1;33m(\u001b[0m\u001b[0mcls\u001b[0m\u001b[1;33m,\u001b[0m \u001b[0mcat_id\u001b[0m\u001b[1;33m=\u001b[0m\u001b[1;32mNone\u001b[0m\u001b[1;33m,\u001b[0m \u001b[1;33m**\u001b[0m\u001b[0mkwargs\u001b[0m\u001b[1;33m)\u001b[0m\u001b[1;33m:\u001b[0m\u001b[1;33m\u001b[0m\u001b[1;33m\u001b[0m\u001b[0m\n\u001b[1;32m---> 42\u001b[1;33m         \u001b[0minst\u001b[0m \u001b[1;33m=\u001b[0m \u001b[0mcls\u001b[0m\u001b[1;33m.\u001b[0m\u001b[0m_image_by_type\u001b[0m\u001b[1;33m(\u001b[0m\u001b[0mcat_id\u001b[0m\u001b[1;33m,\u001b[0m \u001b[1;33m**\u001b[0m\u001b[0mkwargs\u001b[0m\u001b[1;33m)\u001b[0m\u001b[1;33m\u001b[0m\u001b[1;33m\u001b[0m\u001b[0m\n\u001b[0m\u001b[0;32m     43\u001b[0m         \u001b[0mfplg\u001b[0m \u001b[1;33m=\u001b[0m \u001b[0mkwargs\u001b[0m\u001b[1;33m.\u001b[0m\u001b[0mget\u001b[0m\u001b[1;33m(\u001b[0m\u001b[1;34m\"fetch_plugin\"\u001b[0m\u001b[1;33m)\u001b[0m\u001b[1;33m\u001b[0m\u001b[1;33m\u001b[0m\u001b[0m\n\u001b[0;32m     44\u001b[0m         \u001b[1;32mif\u001b[0m \u001b[0mfplg\u001b[0m\u001b[1;33m:\u001b[0m\u001b[1;33m\u001b[0m\u001b[1;33m\u001b[0m\u001b[0m\n",
      "\u001b[1;32mC:\\software\\anaconda3\\envs\\eapy_gbdx\\lib\\site-packages\\gbdxtools\\images\\catalog_image.py\u001b[0m in \u001b[0;36m_image_by_type\u001b[1;34m(cls, cat_id, **kwargs)\u001b[0m\n\u001b[0;32m     83\u001b[0m         \u001b[0mresult\u001b[0m \u001b[1;33m=\u001b[0m \u001b[0mvector_services_query\u001b[0m\u001b[1;33m(\u001b[0m\u001b[0mquery\u001b[0m\u001b[1;33m,\u001b[0m \u001b[0mcount\u001b[0m\u001b[1;33m=\u001b[0m\u001b[1;36m1\u001b[0m\u001b[1;33m)\u001b[0m\u001b[1;33m\u001b[0m\u001b[1;33m\u001b[0m\u001b[0m\n\u001b[0;32m     84\u001b[0m         \u001b[1;32mif\u001b[0m \u001b[0mlen\u001b[0m\u001b[1;33m(\u001b[0m\u001b[0mresult\u001b[0m\u001b[1;33m)\u001b[0m \u001b[1;33m==\u001b[0m \u001b[1;36m0\u001b[0m\u001b[1;33m:\u001b[0m\u001b[1;33m\u001b[0m\u001b[1;33m\u001b[0m\u001b[0m\n\u001b[1;32m---> 85\u001b[1;33m             \u001b[1;32mraise\u001b[0m \u001b[0mException\u001b[0m\u001b[1;33m(\u001b[0m\u001b[1;34m'Could not find a catalog entry for the given id: {}'\u001b[0m\u001b[1;33m.\u001b[0m\u001b[0mformat\u001b[0m\u001b[1;33m(\u001b[0m\u001b[0mcat_id\u001b[0m\u001b[1;33m)\u001b[0m\u001b[1;33m)\u001b[0m\u001b[1;33m\u001b[0m\u001b[1;33m\u001b[0m\u001b[0m\n\u001b[0m\u001b[0;32m     86\u001b[0m         \u001b[1;32melse\u001b[0m\u001b[1;33m:\u001b[0m\u001b[1;33m\u001b[0m\u001b[1;33m\u001b[0m\u001b[0m\n\u001b[0;32m     87\u001b[0m             \u001b[1;32mreturn\u001b[0m \u001b[0mcls\u001b[0m\u001b[1;33m.\u001b[0m\u001b[0m_image_class\u001b[0m\u001b[1;33m(\u001b[0m\u001b[0mresult\u001b[0m\u001b[1;33m[\u001b[0m\u001b[1;36m0\u001b[0m\u001b[1;33m]\u001b[0m\u001b[1;33m,\u001b[0m \u001b[1;33m**\u001b[0m\u001b[0mkwargs\u001b[0m\u001b[1;33m)\u001b[0m\u001b[1;33m\u001b[0m\u001b[1;33m\u001b[0m\u001b[0m\n",
      "\u001b[1;31mException\u001b[0m: Could not find a catalog entry for the given id: 10400100530FCA00"
     ]
    }
   ],
   "source": [
    "img = CatalogImage(did, bbox=aoi.bounds.values[0], pansharpen=True)"
   ]
  },
  {
   "cell_type": "code",
   "execution_count": 72,
   "metadata": {},
   "outputs": [],
   "source": [
    "gbdx = Interface()"
   ]
  },
  {
   "cell_type": "code",
   "execution_count": 73,
   "metadata": {},
   "outputs": [
    {
     "data": {
      "text/plain": [
       "'48f082d4-c712-466c-ab46-7eaa85dda475'"
      ]
     },
     "execution_count": 73,
     "metadata": {},
     "output_type": "execute_result"
    }
   ],
   "source": [
    "gbdx.ordering.order(did)"
   ]
  },
  {
   "cell_type": "code",
   "execution_count": 89,
   "metadata": {},
   "outputs": [
    {
     "data": {
      "text/plain": [
       "False"
      ]
     },
     "execution_count": 89,
     "metadata": {},
     "output_type": "execute_result"
    }
   ],
   "source": [
    "CatalogImage.is_ordered(did)"
   ]
  },
  {
   "cell_type": "code",
   "execution_count": 90,
   "metadata": {},
   "outputs": [
    {
     "data": {
      "text/plain": [
       "[{'acquisition_id': '10400100530FCA00',\n",
       "  'state': 'placed',\n",
       "  'location': 'not_delivered'}]"
      ]
     },
     "execution_count": 90,
     "metadata": {},
     "output_type": "execute_result"
    }
   ],
   "source": [
    "gbdx.ordering.status('48f082d4-c712-466c-ab46-7eaa85dda475')"
   ]
  },
  {
   "cell_type": "code",
   "execution_count": null,
   "metadata": {},
   "outputs": [],
   "source": []
  }
 ],
 "metadata": {
  "kernelspec": {
   "display_name": "Python3 (eapy_gbdx)",
   "language": "python",
   "name": "eapy_gbdx"
  },
  "language_info": {
   "codemirror_mode": {
    "name": "ipython",
    "version": 3
   },
   "file_extension": ".py",
   "mimetype": "text/x-python",
   "name": "python",
   "nbconvert_exporter": "python",
   "pygments_lexer": "ipython3",
   "version": "3.6.7"
  }
 },
 "nbformat": 4,
 "nbformat_minor": 2
}
