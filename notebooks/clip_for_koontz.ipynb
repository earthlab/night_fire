{
 "cells": [
  {
   "cell_type": "code",
   "execution_count": 8,
   "metadata": {},
   "outputs": [],
   "source": [
    "import geopandas as gpd\n",
    "import os\n",
    "import multiprocessing as mp\n",
    "from helpers import clip_points\n",
    "from glob import glob\n",
    "from functools import partial"
   ]
  },
  {
   "cell_type": "code",
   "execution_count": 2,
   "metadata": {},
   "outputs": [],
   "source": [
    "boundary_file = '../jepson_sierra-nevada-ecoregion/jepson_sierra-nevada-ecoregion/jepson_sierra-nevada-ecoregion.shp'\n",
    "output_folder = '../jepson_sierra-nevada-ecoregion/jepson_with_firepoints'\n",
    "if not os.path.exists(output_folder):\n",
    "    os.makedirs(output_folder)"
   ]
  },
  {
   "cell_type": "code",
   "execution_count": 6,
   "metadata": {},
   "outputs": [],
   "source": [
    "fire_pts_folders = !ls -d ../modis_fire_points/*\n",
    "shp_files = [glob(folder + '/*.shp')[0] for folder in fire_pts_folders]\n"
   ]
  },
  {
   "cell_type": "code",
   "execution_count": 9,
   "metadata": {},
   "outputs": [],
   "source": [
    "num_cpu = mp.cpu_count() - 2\n",
    "num_cpu = 3\n",
    "pool = mp.Pool(processes=num_cpu)\n",
    "a = pool.map(partial(clip_points, boundary_filepath=boundary_file, out_folder=output_folder, conf=50), shp_files)\n",
    "\n",
    "pool.close()\n",
    "pool.join()"
   ]
  }
 ],
 "metadata": {
  "kernelspec": {
   "display_name": "Python3 (eapy_gbdx)",
   "language": "python",
   "name": "eapy_gbdx"
  },
  "language_info": {
   "codemirror_mode": {
    "name": "ipython",
    "version": 3
   },
   "file_extension": ".py",
   "mimetype": "text/x-python",
   "name": "python",
   "nbconvert_exporter": "python",
   "pygments_lexer": "ipython3",
   "version": "3.6.7"
  }
 },
 "nbformat": 4,
 "nbformat_minor": 2
}
