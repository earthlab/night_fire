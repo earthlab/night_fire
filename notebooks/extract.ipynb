{
 "cells": [
  {
   "cell_type": "code",
   "execution_count": 10,
   "metadata": {},
   "outputs": [],
   "source": [
    "import geopandas as gpd\n",
    "import pandas as pd\n",
    "import numpy as np\n",
    "import os, sys\n",
    "from matplotlib import pyplot as plt\n",
    "from glob import glob"
   ]
  },
  {
   "cell_type": "code",
   "execution_count": 17,
   "metadata": {},
   "outputs": [],
   "source": [
    "fire_pts_folders = !ls -d ../modis_fire_points/*"
   ]
  },
  {
   "cell_type": "code",
   "execution_count": 22,
   "metadata": {},
   "outputs": [
    {
     "data": {
      "text/plain": [
       "['../modis_fire_points/DL_FIRE_M6_50639\\\\fire_archive_M6_50639.shp',\n",
       " '../modis_fire_points/DL_FIRE_M6_50640\\\\fire_archive_M6_50640.shp',\n",
       " '../modis_fire_points/DL_FIRE_M6_50641\\\\fire_archive_M6_50641.shp',\n",
       " '../modis_fire_points/DL_FIRE_M6_50642\\\\fire_archive_M6_50642.shp',\n",
       " '../modis_fire_points/DL_FIRE_M6_50643\\\\fire_archive_M6_50643.shp',\n",
       " '../modis_fire_points/DL_FIRE_M6_50644\\\\fire_archive_M6_50644.shp',\n",
       " '../modis_fire_points/DL_FIRE_M6_50645\\\\fire_archive_M6_50645.shp',\n",
       " '../modis_fire_points/DL_FIRE_M6_50646\\\\fire_archive_M6_50646.shp',\n",
       " '../modis_fire_points/DL_FIRE_M6_50647\\\\fire_archive_M6_50647.shp',\n",
       " '../modis_fire_points/DL_FIRE_M6_50648\\\\fire_archive_M6_50648.shp',\n",
       " '../modis_fire_points/DL_FIRE_M6_50649\\\\fire_archive_M6_50649.shp',\n",
       " '../modis_fire_points/DL_FIRE_M6_50651\\\\fire_archive_M6_50651.shp',\n",
       " '../modis_fire_points/DL_FIRE_M6_50652\\\\fire_archive_M6_50652.shp',\n",
       " '../modis_fire_points/DL_FIRE_M6_50653\\\\fire_archive_M6_50653.shp',\n",
       " '../modis_fire_points/DL_FIRE_M6_50654\\\\fire_archive_M6_50654.shp',\n",
       " '../modis_fire_points/DL_FIRE_M6_50655\\\\fire_archive_M6_50655.shp',\n",
       " '../modis_fire_points/DL_FIRE_M6_50656\\\\fire_archive_M6_50656.shp',\n",
       " '../modis_fire_points/DL_FIRE_M6_50657\\\\fire_archive_M6_50657.shp',\n",
       " '../modis_fire_points/DL_FIRE_M6_50658\\\\fire_nrt_M6_50658.shp']"
      ]
     },
     "execution_count": 22,
     "metadata": {},
     "output_type": "execute_result"
    }
   ],
   "source": [
    "shp_files = [glob(folder + '/*.shp')[0] for folder in fire_pts_folders]\n",
    "shp_files"
   ]
  },
  {
   "cell_type": "code",
   "execution_count": 24,
   "metadata": {},
   "outputs": [],
   "source": [
    "fi = shp_files[0]\n",
    "pts_df = gpd.read_file(fi)\n",
    "daynight = list(pts_df.groupby(by='DAYNIGHT'))\n",
    "df_day = daynight[0][1]\n",
    "df_night = daynight[1][1]\n"
   ]
  },
  {
   "cell_type": "code",
   "execution_count": 31,
   "metadata": {},
   "outputs": [
    {
     "data": {
      "text/plain": [
       "LATITUDE      222168\n",
       "LONGITUDE     222168\n",
       "BRIGHTNESS    222168\n",
       "SCAN          222168\n",
       "TRACK         222168\n",
       "ACQ_DATE      222168\n",
       "ACQ_TIME      222168\n",
       "SATELLITE     222168\n",
       "INSTRUMENT    222168\n",
       "CONFIDENCE    222168\n",
       "VERSION       222168\n",
       "BRIGHT_T31    222168\n",
       "FRP           222168\n",
       "DAYNIGHT      222168\n",
       "TYPE          222168\n",
       "geometry      222168\n",
       "dtype: int64"
      ]
     },
     "execution_count": 31,
     "metadata": {},
     "output_type": "execute_result"
    }
   ],
   "source": [
    "pts_df.query('DAYNIGHT == \"D\"', inplace=False).count()"
   ]
  },
  {
   "cell_type": "code",
   "execution_count": 32,
   "metadata": {},
   "outputs": [
    {
     "data": {
      "text/plain": [
       "(222168, 16)"
      ]
     },
     "execution_count": 32,
     "metadata": {},
     "output_type": "execute_result"
    }
   ],
   "source": [
    "df_day.shape"
   ]
  },
  {
   "cell_type": "code",
   "execution_count": 52,
   "metadata": {},
   "outputs": [
    {
     "data": {
      "text/plain": [
       "(963750, 15)"
      ]
     },
     "execution_count": 52,
     "metadata": {},
     "output_type": "execute_result"
    }
   ],
   "source": [
    "pts_df.query('CONFIDENCE > 50', inplace=False).shape"
   ]
  },
  {
   "cell_type": "code",
   "execution_count": 40,
   "metadata": {},
   "outputs": [
    {
     "name": "stdout",
     "output_type": "stream",
     "text": [
      "on file 1 of 19\n",
      "on file 2 of 19\n",
      "on file 3 of 19\n",
      "on file 4 of 19\n",
      "on file 5 of 19\n",
      "on file 6 of 19\n",
      "on file 7 of 19\n",
      "on file 8 of 19\n",
      "on file 9 of 19\n",
      "on file 10 of 19\n",
      "on file 11 of 19\n",
      "on file 12 of 19\n",
      "on file 13 of 19\n",
      "on file 14 of 19\n",
      "on file 15 of 19\n",
      "on file 16 of 19\n",
      "on file 17 of 19\n",
      "on file 18 of 19\n",
      "on file 19 of 19\n"
     ]
    }
   ],
   "source": [
    "years = []\n",
    "day_counts = []\n",
    "night_counts = []\n",
    "for i,fi in enumerate(shp_files):\n",
    "    print('on file {} of {}'.format(i+1, len(shp_files)))\n",
    "    pts_df = gpd.read_file(fi)\n",
    "    daynight = list(pts_df.groupby(by='DAYNIGHT'))\n",
    "    df_day = daynight[0][1]\n",
    "    df_night = daynight[1][1]\n",
    "    \n",
    "    year = pts_df.ACQ_DATE[0].split('-')[0]\n",
    "    \n",
    "    years.append('y' + year)\n",
    "    day_counts.append(df_day.shape[0])\n",
    "    night_counts.append(df_night.shape[0])\n"
   ]
  },
  {
   "cell_type": "code",
   "execution_count": 73,
   "metadata": {},
   "outputs": [],
   "source": [
    "from helpers import extract_day_night_counts\n",
    "from functools import partial\n",
    "import multiprocessing as mp"
   ]
  },
  {
   "cell_type": "code",
   "execution_count": 74,
   "metadata": {},
   "outputs": [
    {
     "ename": "KeyError",
     "evalue": "0",
     "output_type": "error",
     "traceback": [
      "\u001b[1;31m---------------------------------------------------------------------------\u001b[0m",
      "\u001b[1;31mRemoteTraceback\u001b[0m                           Traceback (most recent call last)",
      "\u001b[1;31mRemoteTraceback\u001b[0m: \n\"\"\"\nTraceback (most recent call last):\n  File \"C:\\software\\Anaconda3\\envs\\eapy_gbdx\\lib\\multiprocessing\\pool.py\", line 119, in worker\n    result = (True, func(*args, **kwds))\n  File \"C:\\software\\Anaconda3\\envs\\eapy_gbdx\\lib\\multiprocessing\\pool.py\", line 44, in mapstar\n    return list(map(*args))\n  File \"C:\\Projects\\night_fire\\notebooks\\helpers.py\", line 14, in extract_day_night_counts\n    year = pts_df.ACQ_DATE[0].split('-')[0]\n  File \"C:\\software\\Anaconda3\\envs\\eapy_gbdx\\lib\\site-packages\\pandas\\core\\series.py\", line 623, in __getitem__\n    result = self.index.get_value(self, key)\n  File \"C:\\software\\Anaconda3\\envs\\eapy_gbdx\\lib\\site-packages\\pandas\\core\\indexes\\base.py\", line 2560, in get_value\n    tz=getattr(series.dtype, 'tz', None))\n  File \"pandas/_libs/index.pyx\", line 83, in pandas._libs.index.IndexEngine.get_value\n  File \"pandas/_libs/index.pyx\", line 91, in pandas._libs.index.IndexEngine.get_value\n  File \"pandas/_libs/index.pyx\", line 139, in pandas._libs.index.IndexEngine.get_loc\n  File \"pandas/_libs/hashtable_class_helper.pxi\", line 811, in pandas._libs.hashtable.Int64HashTable.get_item\n  File \"pandas/_libs/hashtable_class_helper.pxi\", line 817, in pandas._libs.hashtable.Int64HashTable.get_item\nKeyError: 0\n\"\"\"",
      "\nThe above exception was the direct cause of the following exception:\n",
      "\u001b[1;31mKeyError\u001b[0m                                  Traceback (most recent call last)",
      "\u001b[1;32m<ipython-input-74-e40024109ff9>\u001b[0m in \u001b[0;36m<module>\u001b[1;34m()\u001b[0m\n\u001b[0;32m      3\u001b[0m \u001b[0mnum_cpu\u001b[0m \u001b[1;33m=\u001b[0m \u001b[0mmp\u001b[0m\u001b[1;33m.\u001b[0m\u001b[0mcpu_count\u001b[0m\u001b[1;33m(\u001b[0m\u001b[1;33m)\u001b[0m \u001b[1;33m-\u001b[0m \u001b[1;36m2\u001b[0m\u001b[1;33m\u001b[0m\u001b[0m\n\u001b[0;32m      4\u001b[0m \u001b[0mpool\u001b[0m \u001b[1;33m=\u001b[0m \u001b[0mmp\u001b[0m\u001b[1;33m.\u001b[0m\u001b[0mPool\u001b[0m\u001b[1;33m(\u001b[0m\u001b[0mprocesses\u001b[0m\u001b[1;33m=\u001b[0m\u001b[0mnum_cpu\u001b[0m\u001b[1;33m)\u001b[0m\u001b[1;33m\u001b[0m\u001b[0m\n\u001b[1;32m----> 5\u001b[1;33m \u001b[0ma\u001b[0m \u001b[1;33m=\u001b[0m \u001b[0mpool\u001b[0m\u001b[1;33m.\u001b[0m\u001b[0mmap\u001b[0m\u001b[1;33m(\u001b[0m\u001b[0mpartial\u001b[0m\u001b[1;33m(\u001b[0m\u001b[0mextract_day_night_counts\u001b[0m\u001b[1;33m,\u001b[0m \u001b[0mconf\u001b[0m\u001b[1;33m=\u001b[0m\u001b[1;36m0\u001b[0m\u001b[1;33m)\u001b[0m\u001b[1;33m,\u001b[0m \u001b[0mshp_files\u001b[0m\u001b[1;33m[\u001b[0m\u001b[1;33m:\u001b[0m\u001b[1;36m1\u001b[0m\u001b[1;33m]\u001b[0m\u001b[1;33m)\u001b[0m\u001b[1;33m\u001b[0m\u001b[0m\n\u001b[0m\u001b[0;32m      6\u001b[0m \u001b[1;33m\u001b[0m\u001b[0m\n\u001b[0;32m      7\u001b[0m \u001b[0mtest\u001b[0m\u001b[1;33m.\u001b[0m\u001b[0mappend\u001b[0m\u001b[1;33m(\u001b[0m\u001b[0ma\u001b[0m\u001b[1;33m)\u001b[0m\u001b[1;33m\u001b[0m\u001b[0m\n",
      "\u001b[1;32mC:\\software\\Anaconda3\\envs\\eapy_gbdx\\lib\\multiprocessing\\pool.py\u001b[0m in \u001b[0;36mmap\u001b[1;34m(self, func, iterable, chunksize)\u001b[0m\n\u001b[0;32m    264\u001b[0m         \u001b[1;32min\u001b[0m \u001b[0ma\u001b[0m \u001b[0mlist\u001b[0m \u001b[0mthat\u001b[0m \u001b[1;32mis\u001b[0m \u001b[0mreturned\u001b[0m\u001b[1;33m.\u001b[0m\u001b[1;33m\u001b[0m\u001b[0m\n\u001b[0;32m    265\u001b[0m         '''\n\u001b[1;32m--> 266\u001b[1;33m         \u001b[1;32mreturn\u001b[0m \u001b[0mself\u001b[0m\u001b[1;33m.\u001b[0m\u001b[0m_map_async\u001b[0m\u001b[1;33m(\u001b[0m\u001b[0mfunc\u001b[0m\u001b[1;33m,\u001b[0m \u001b[0miterable\u001b[0m\u001b[1;33m,\u001b[0m \u001b[0mmapstar\u001b[0m\u001b[1;33m,\u001b[0m \u001b[0mchunksize\u001b[0m\u001b[1;33m)\u001b[0m\u001b[1;33m.\u001b[0m\u001b[0mget\u001b[0m\u001b[1;33m(\u001b[0m\u001b[1;33m)\u001b[0m\u001b[1;33m\u001b[0m\u001b[0m\n\u001b[0m\u001b[0;32m    267\u001b[0m \u001b[1;33m\u001b[0m\u001b[0m\n\u001b[0;32m    268\u001b[0m     \u001b[1;32mdef\u001b[0m \u001b[0mstarmap\u001b[0m\u001b[1;33m(\u001b[0m\u001b[0mself\u001b[0m\u001b[1;33m,\u001b[0m \u001b[0mfunc\u001b[0m\u001b[1;33m,\u001b[0m \u001b[0miterable\u001b[0m\u001b[1;33m,\u001b[0m \u001b[0mchunksize\u001b[0m\u001b[1;33m=\u001b[0m\u001b[1;32mNone\u001b[0m\u001b[1;33m)\u001b[0m\u001b[1;33m:\u001b[0m\u001b[1;33m\u001b[0m\u001b[0m\n",
      "\u001b[1;32mC:\\software\\Anaconda3\\envs\\eapy_gbdx\\lib\\multiprocessing\\pool.py\u001b[0m in \u001b[0;36mget\u001b[1;34m(self, timeout)\u001b[0m\n\u001b[0;32m    642\u001b[0m             \u001b[1;32mreturn\u001b[0m \u001b[0mself\u001b[0m\u001b[1;33m.\u001b[0m\u001b[0m_value\u001b[0m\u001b[1;33m\u001b[0m\u001b[0m\n\u001b[0;32m    643\u001b[0m         \u001b[1;32melse\u001b[0m\u001b[1;33m:\u001b[0m\u001b[1;33m\u001b[0m\u001b[0m\n\u001b[1;32m--> 644\u001b[1;33m             \u001b[1;32mraise\u001b[0m \u001b[0mself\u001b[0m\u001b[1;33m.\u001b[0m\u001b[0m_value\u001b[0m\u001b[1;33m\u001b[0m\u001b[0m\n\u001b[0m\u001b[0;32m    645\u001b[0m \u001b[1;33m\u001b[0m\u001b[0m\n\u001b[0;32m    646\u001b[0m     \u001b[1;32mdef\u001b[0m \u001b[0m_set\u001b[0m\u001b[1;33m(\u001b[0m\u001b[0mself\u001b[0m\u001b[1;33m,\u001b[0m \u001b[0mi\u001b[0m\u001b[1;33m,\u001b[0m \u001b[0mobj\u001b[0m\u001b[1;33m)\u001b[0m\u001b[1;33m:\u001b[0m\u001b[1;33m\u001b[0m\u001b[0m\n",
      "\u001b[1;31mKeyError\u001b[0m: 0"
     ]
    }
   ],
   "source": [
    "test=[]\n",
    "\n",
    "num_cpu = mp.cpu_count() - 2\n",
    "pool = mp.Pool(processes=num_cpu)\n",
    "a = pool.map(partial(extract_day_night_counts, conf=0), shp_files[:1])\n",
    "\n",
    "test.append(a)\n",
    "\n",
    "pool.close()\n",
    "pool.join()"
   ]
  },
  {
   "cell_type": "code",
   "execution_count": 75,
   "metadata": {},
   "outputs": [
    {
     "data": {
      "text/plain": [
       "['../modis_fire_points/DL_FIRE_M6_50639\\\\fire_archive_M6_50639.shp']"
      ]
     },
     "execution_count": 75,
     "metadata": {},
     "output_type": "execute_result"
    }
   ],
   "source": [
    "shp_files[:1]"
   ]
  },
  {
   "cell_type": "code",
   "execution_count": 76,
   "metadata": {},
   "outputs": [
    {
     "ename": "NameError",
     "evalue": "name 'i' is not defined",
     "output_type": "error",
     "traceback": [
      "\u001b[1;31m---------------------------------------------------------------------------\u001b[0m",
      "\u001b[1;31mNameError\u001b[0m                                 Traceback (most recent call last)",
      "\u001b[1;32m<ipython-input-76-927989dd44f9>\u001b[0m in \u001b[0;36m<module>\u001b[1;34m()\u001b[0m\n\u001b[1;32m----> 1\u001b[1;33m \u001b[0mextract_day_night_counts\u001b[0m\u001b[1;33m(\u001b[0m\u001b[0mshp_files\u001b[0m\u001b[1;33m[\u001b[0m\u001b[1;36m0\u001b[0m\u001b[1;33m]\u001b[0m\u001b[1;33m)\u001b[0m\u001b[1;33m\u001b[0m\u001b[0m\n\u001b[0m",
      "\u001b[1;32mC:\\Projects\\night_fire\\notebooks\\helpers.py\u001b[0m in \u001b[0;36mextract_day_night_counts\u001b[1;34m(filepath, conf)\u001b[0m\n\u001b[0;32m      4\u001b[0m \u001b[1;33m\u001b[0m\u001b[0m\n\u001b[0;32m      5\u001b[0m \u001b[1;33m\u001b[0m\u001b[0m\n\u001b[1;32m----> 6\u001b[1;33m     \u001b[1;31m#print('on file {} of {}'.format(i+1, len(shp_files)))\u001b[0m\u001b[1;33m\u001b[0m\u001b[1;33m\u001b[0m\u001b[0m\n\u001b[0m\u001b[0;32m      7\u001b[0m     \u001b[0mpts_df\u001b[0m \u001b[1;33m=\u001b[0m \u001b[0mgpd\u001b[0m\u001b[1;33m.\u001b[0m\u001b[0mread_file\u001b[0m\u001b[1;33m(\u001b[0m\u001b[0mfilepath\u001b[0m\u001b[1;33m)\u001b[0m\u001b[1;33m\u001b[0m\u001b[0m\n\u001b[0;32m      8\u001b[0m     \u001b[0mpts_df\u001b[0m\u001b[1;33m.\u001b[0m\u001b[0mquery\u001b[0m\u001b[1;33m(\u001b[0m\u001b[1;34m'CONFIDENCE > {}'\u001b[0m\u001b[1;33m.\u001b[0m\u001b[0mformat\u001b[0m\u001b[1;33m(\u001b[0m\u001b[0mconf\u001b[0m\u001b[1;33m)\u001b[0m\u001b[1;33m,\u001b[0m \u001b[0minplace\u001b[0m\u001b[1;33m=\u001b[0m\u001b[1;32mTrue\u001b[0m\u001b[1;33m)\u001b[0m\u001b[1;33m\u001b[0m\u001b[0m\n",
      "\u001b[1;31mNameError\u001b[0m: name 'i' is not defined"
     ]
    }
   ],
   "source": [
    "extract_day_night_counts(shp_files[0])"
   ]
  },
  {
   "cell_type": "code",
   "execution_count": null,
   "metadata": {},
   "outputs": [],
   "source": []
  }
 ],
 "metadata": {
  "kernelspec": {
   "display_name": "Python [conda env:eapy_gbdx]",
   "language": "python",
   "name": "conda-env-eapy_gbdx-py"
  },
  "language_info": {
   "codemirror_mode": {
    "name": "ipython",
    "version": 3
   },
   "file_extension": ".py",
   "mimetype": "text/x-python",
   "name": "python",
   "nbconvert_exporter": "python",
   "pygments_lexer": "ipython3",
   "version": "3.6.4"
  }
 },
 "nbformat": 4,
 "nbformat_minor": 2
}
